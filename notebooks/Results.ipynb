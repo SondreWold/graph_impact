{
 "cells": [
  {
   "cell_type": "code",
   "execution_count": 13,
   "id": "e9f42009",
   "metadata": {},
   "outputs": [],
   "source": [
    "import numpy as np\n",
    "import matplotlib.pyplot as plt"
   ]
  },
  {
   "cell_type": "code",
   "execution_count": 4,
   "id": "242ef3be",
   "metadata": {},
   "outputs": [],
   "source": [
    "copa_no_graph = [0.6520000100135803\n",
    ",0.6840000152587891\n",
    ",0.6520000100135803\n",
    ",0.492000013589859\n",
    ",0.656000018119812\n",
    ",0.5760000348091125\n",
    ",0.656000018119812\n",
    ",0.6600000262260437\n",
    ",0.6960000395774841\n",
    ",0.7080000042915344]\n",
    "copa_no_graph = [x*100 for x in copa_no_graph]"
   ]
  },
  {
   "cell_type": "code",
   "execution_count": 5,
   "id": "1a287eca",
   "metadata": {},
   "outputs": [],
   "source": [
    "copa_gold = [0.9640000462532043\n",
    ",0.968000054359436\n",
    ",0.9640000462532043\n",
    ",0.968000054359436\n",
    ",0.968000054359436\n",
    ",0.9800000190734864\n",
    ",0.9600000381469728\n",
    ",0.968000054359436\n",
    ",0.968000054359436\n",
    ",0.928000032901764]\n",
    "copa_gold = [x*100 for x in copa_gold]"
   ]
  },
  {
   "cell_type": "code",
   "execution_count": 6,
   "id": "f967fa0f",
   "metadata": {},
   "outputs": [],
   "source": [
    "copa_retrieved = [0.5200000405311584\n",
    ",0.5240000486373901\n",
    ",0.5160000324249268\n",
    ",0.6480000019073486\n",
    ",0.64000004529953\n",
    ",0.492000013589859\n",
    ",0.5360000133514404\n",
    ",0.4680000245571137\n",
    ",0.5160000324249268\n",
    ",0.5320000052452087]\n",
    "copa_retrieved = [x*100 for x in copa_retrieved]"
   ]
  },
  {
   "cell_type": "code",
   "execution_count": 7,
   "id": "abf6a34e",
   "metadata": {},
   "outputs": [],
   "source": [
    "copa_linked = [0.5520000457763672\n",
    ",0.5480000376701355\n",
    ",0.5440000295639038\n",
    ",0.5520000457763672\n",
    ",0.6960000395774841\n",
    ",0.492000013589859\n",
    ",0.527999997138977\n",
    ",0.5240000486373901\n",
    ",0.5240000486373901\n",
    ",0.5360000133514404]\n",
    "copa_linked = [x*100 for x in copa_linked]"
   ]
  },
  {
   "cell_type": "code",
   "execution_count": 8,
   "id": "73c78a7c",
   "metadata": {},
   "outputs": [],
   "source": [
    "copa_gen_linked = [0.5840000510215759\n",
    ",0.42000001668930054\n",
    ",0.656000018119812\n",
    ",0.5560000538825989\n",
    ",0.6720000505447388\n",
    ",0.6440000534057617\n",
    ",0.6080000400543213\n",
    ",0.5480000376701355\n",
    ",0.4400000274181366\n",
    ",0.492000013589859]\n",
    "copa_gen_linked = [x*100 for x in copa_gen_linked]"
   ]
  },
  {
   "cell_type": "code",
   "execution_count": 9,
   "id": "efbd31fb",
   "metadata": {},
   "outputs": [],
   "source": [
    "copa_gen_gold = [0.8640000224113464\n",
    ",0.8720000386238098\n",
    ",0.8520000576972961\n",
    ",0.8640000224113464\n",
    ",0.8560000658035278\n",
    ",0.8560000658035278\n",
    ",0.6320000290870667\n",
    ",0.8440000414848328\n",
    ",0.8600000143051147\n",
    ",0.8600000143051147]\n",
    "copa_gen_gold = [x*100 for x in copa_gen_gold]"
   ]
  },
  {
   "cell_type": "code",
   "execution_count": 24,
   "id": "aa331427",
   "metadata": {},
   "outputs": [],
   "source": [
    "expla_no_graphs = [64.62093591690063\n",
    ",53.79061102867126\n",
    ",71.11913561820984\n",
    ",74.72923994064331\n",
    ",66.42599105834961\n",
    ",74.72923994064331\n",
    ",70.75812220573425\n",
    ",66.42599105834961\n",
    ",69.31408047676086\n",
    ",68.95306706428528]"
   ]
  },
  {
   "cell_type": "code",
   "execution_count": 25,
   "id": "535eab54",
   "metadata": {},
   "outputs": [],
   "source": [
    "expla_gold = [82.6714813709259\n",
    ",81.94946050643921\n",
    ",82.31046795845032\n",
    ",75.0902533531189\n",
    ",81.22743368148804\n",
    ",80.86642622947693\n",
    ",77.61732935905457\n",
    ",79.06137108802795\n",
    ",82.31046795845032\n",
    ",79.78339195251465]"
   ]
  },
  {
   "cell_type": "code",
   "execution_count": 26,
   "id": "32a3b531",
   "metadata": {},
   "outputs": [],
   "source": [
    "expla_retrieved = [53.79061102867126\n",
    ",76.53429508209229\n",
    ",71.48014307022095\n",
    ",68.95306706428528\n",
    ",70.75812220573425\n",
    ",71.48014307022095\n",
    ",71.48014307022095\n",
    ",53.79061102867126\n",
    ",72.56317734718323\n",
    ",53.79061102867126]"
   ]
  },
  {
   "cell_type": "code",
   "execution_count": 27,
   "id": "ea952147",
   "metadata": {},
   "outputs": [],
   "source": [
    "expla_linked = [70.75812220573425\n",
    ",68.59205961227417\n",
    ",72.56317734718323\n",
    ",68.23104619979858\n",
    ",70.75812220573425\n",
    ",53.79061102867126\n",
    ",64.25992846488953\n",
    ",53.79061102867126\n",
    ",72.56317734718323\n",
    ",72.56317734718323]"
   ]
  },
  {
   "cell_type": "code",
   "execution_count": 28,
   "id": "7394f769",
   "metadata": {},
   "outputs": [],
   "source": [
    "expla_gen_linked = [53.79061102867126\n",
    ",74.72923994064331\n",
    ",76.89530849456787\n",
    ",71.48014307022095\n",
    ",74.72923994064331\n",
    ",72.56317734718323\n",
    ",72.56317734718323\n",
    ",72.20216393470764\n",
    ",53.79061102867126\n",
    ",73.28519821166992]"
   ]
  },
  {
   "cell_type": "code",
   "execution_count": 29,
   "id": "19610868",
   "metadata": {},
   "outputs": [],
   "source": [
    "expla_gen_gold = [74.3682324886322\n",
    ",70.03610134124756\n",
    ",53.79061102867126\n",
    ",72.56317734718323\n",
    ",66.7870044708252\n",
    ",53.79061102867126\n",
    ",68.23104619979858\n",
    ",74.3682324886322\n",
    ",72.92418479919434\n",
    ",65.34296274185181]"
   ]
  },
  {
   "cell_type": "code",
   "execution_count": 11,
   "id": "b78a05f4",
   "metadata": {},
   "outputs": [],
   "source": [
    "def compute(x):\n",
    "    return np.mean(x), np.std(x)\n",
    "    "
   ]
  },
  {
   "cell_type": "markdown",
   "id": "ed20fc6f",
   "metadata": {},
   "source": [
    "# Raw results"
   ]
  },
  {
   "cell_type": "markdown",
   "id": "deb7b193",
   "metadata": {},
   "source": [
    "### COPA"
   ]
  },
  {
   "cell_type": "code",
   "execution_count": 14,
   "id": "b03a400a",
   "metadata": {},
   "outputs": [
    {
     "data": {
      "text/plain": [
       "(64.32000190019608, 6.065772774690204)"
      ]
     },
     "execution_count": 14,
     "metadata": {},
     "output_type": "execute_result"
    }
   ],
   "source": [
    "compute(copa_no_graph)"
   ]
  },
  {
   "cell_type": "code",
   "execution_count": 15,
   "id": "bd71b37a",
   "metadata": {},
   "outputs": [
    {
     "data": {
      "text/plain": [
       "(96.36000454425812, 1.28312137935901)"
      ]
     },
     "execution_count": 15,
     "metadata": {},
     "output_type": "execute_result"
    }
   ],
   "source": [
    "compute(copa_gold)"
   ]
  },
  {
   "cell_type": "code",
   "execution_count": 16,
   "id": "f0c9a9f4",
   "metadata": {},
   "outputs": [
    {
     "data": {
      "text/plain": [
       "(53.920002579689026, 5.570780785726949)"
      ]
     },
     "execution_count": 16,
     "metadata": {},
     "output_type": "execute_result"
    }
   ],
   "source": [
    "compute(copa_retrieved)"
   ]
  },
  {
   "cell_type": "code",
   "execution_count": 17,
   "id": "0656802f",
   "metadata": {},
   "outputs": [
    {
     "data": {
      "text/plain": [
       "(54.960003197193146, 5.172852674347083)"
      ]
     },
     "execution_count": 17,
     "metadata": {},
     "output_type": "execute_result"
    }
   ],
   "source": [
    "compute(copa_linked)"
   ]
  },
  {
   "cell_type": "code",
   "execution_count": 18,
   "id": "ef9685b4",
   "metadata": {},
   "outputs": [
    {
     "data": {
      "text/plain": [
       "(56.2000036239624, 8.392854948177016)"
      ]
     },
     "execution_count": 18,
     "metadata": {},
     "output_type": "execute_result"
    }
   ],
   "source": [
    "compute(copa_gen_linked)"
   ]
  },
  {
   "cell_type": "code",
   "execution_count": 19,
   "id": "385b2e86",
   "metadata": {},
   "outputs": [
    {
     "data": {
      "text/plain": [
       "(83.60000371932983, 6.837543606523441)"
      ]
     },
     "execution_count": 19,
     "metadata": {},
     "output_type": "execute_result"
    }
   ],
   "source": [
    "compute(copa_gen_gold)"
   ]
  },
  {
   "cell_type": "markdown",
   "id": "fb19d4d9",
   "metadata": {},
   "source": [
    "### EXPLA"
   ]
  },
  {
   "cell_type": "code",
   "execution_count": 37,
   "id": "b85da82e",
   "metadata": {},
   "outputs": [
    {
     "data": {
      "text/plain": [
       "(68.0866414308548, 5.733598169823845)"
      ]
     },
     "execution_count": 37,
     "metadata": {},
     "output_type": "execute_result"
    }
   ],
   "source": [
    "compute(expla_no_graphs)"
   ]
  },
  {
   "cell_type": "code",
   "execution_count": 38,
   "id": "71ee2600",
   "metadata": {},
   "outputs": [
    {
     "data": {
      "text/plain": [
       "(80.28880834579468, 2.318352721295891)"
      ]
     },
     "execution_count": 38,
     "metadata": {},
     "output_type": "execute_result"
    }
   ],
   "source": [
    "compute(expla_gold)"
   ]
  },
  {
   "cell_type": "code",
   "execution_count": 39,
   "id": "73f1185f",
   "metadata": {},
   "outputs": [
    {
     "data": {
      "text/plain": [
       "(66.46209239959717, 8.488669797384452)"
      ]
     },
     "execution_count": 39,
     "metadata": {},
     "output_type": "execute_result"
    }
   ],
   "source": [
    "compute(expla_retrieved)"
   ]
  },
  {
   "cell_type": "code",
   "execution_count": 40,
   "id": "f03fb15b",
   "metadata": {},
   "outputs": [
    {
     "data": {
      "text/plain": [
       "(66.7870032787323, 6.936671753418309)"
      ]
     },
     "execution_count": 40,
     "metadata": {},
     "output_type": "execute_result"
    }
   ],
   "source": [
    "compute(expla_linked)"
   ]
  },
  {
   "cell_type": "code",
   "execution_count": 41,
   "id": "024aadc0",
   "metadata": {},
   "outputs": [
    {
     "data": {
      "text/plain": [
       "(69.6028870344162, 8.044631300816512)"
      ]
     },
     "execution_count": 41,
     "metadata": {},
     "output_type": "execute_result"
    }
   ],
   "source": [
    "compute(expla_gen_linked)"
   ]
  },
  {
   "cell_type": "code",
   "execution_count": 42,
   "id": "62e32604",
   "metadata": {},
   "outputs": [
    {
     "data": {
      "text/plain": [
       "(67.22021639347076, 7.325585947944243)"
      ]
     },
     "execution_count": 42,
     "metadata": {},
     "output_type": "execute_result"
    }
   ],
   "source": [
    "compute(expla_gen_gold)"
   ]
  },
  {
   "cell_type": "markdown",
   "id": "d39fbcfd",
   "metadata": {},
   "source": [
    "# Outlier detection and removal"
   ]
  },
  {
   "cell_type": "markdown",
   "id": "bdab438e",
   "metadata": {},
   "source": [
    "## EXPLA"
   ]
  },
  {
   "cell_type": "code",
   "execution_count": 48,
   "id": "ede3eeab",
   "metadata": {},
   "outputs": [],
   "source": [
    "expla = {\"gold\": expla_gold, \"linked\": expla_linked, \"no_graph\": expla_no_graphs, \"rerieved\": expla_retrieved, \"gen_linked\": expla_gen_linked, \"gen_gold\": expla_gen_gold}\n"
   ]
  },
  {
   "cell_type": "code",
   "execution_count": 49,
   "id": "e95a5575",
   "metadata": {},
   "outputs": [
    {
     "data": {
      "image/png": "[encoded data removed]",
      "text/plain": [
       "<Figure size 300x400 with 1 Axes>"
      ]
     },
     "metadata": {},
     "output_type": "display_data"
    },
    {
     "data": {
      "image/png": "[encoded data removed]",
      "text/plain": [
       "<Figure size 300x400 with 1 Axes>"
      ]
     },
     "metadata": {},
     "output_type": "display_data"
    },
    {
     "data": {
      "image/png": "[encoded data removed]",
      "text/plain": [
       "<Figure size 300x400 with 1 Axes>"
      ]
     },
     "metadata": {},
     "output_type": "display_data"
    },
    {
     "data": {
      "image/png": "[encoded data removed]",
      "text/plain": [
       "<Figure size 300x400 with 1 Axes>"
      ]
     },
     "metadata": {},
     "output_type": "display_data"
    },
    {
     "data": {
      "image/png": "[encoded data removed]",
      "text/plain": [
       "<Figure size 300x400 with 1 Axes>"
      ]
     },
     "metadata": {},
     "output_type": "display_data"
    },
    {
     "data": {
      "image/png": "[encoded data removed]",
      "text/plain": [
       "<Figure size 300x400 with 1 Axes>"
      ]
     },
     "metadata": {},
     "output_type": "display_data"
    }
   ],
   "source": [
    "for k, e in expla.items():\n",
    "    fig = plt.figure(figsize =(3, 4))\n",
    "    plt.boxplot(e)\n",
    "    fig.savefig(f'./{k}_boxplot.pdf')\n",
    "    \n"
   ]
  },
  {
   "cell_type": "markdown",
   "id": "932704e8",
   "metadata": {},
   "source": [
    "# Pruning ExplaGraphs"
   ]
  },
  {
   "cell_type": "markdown",
   "id": "5adb3dcb",
   "metadata": {},
   "source": [
    "Contains outliers: linked, no_graph, gen_link, gen_gold"
   ]
  },
  {
   "cell_type": "code",
   "execution_count": 52,
   "id": "c69a31e2",
   "metadata": {},
   "outputs": [],
   "source": [
    "expla_linked_pruned = expla_linked.copy()"
   ]
  },
  {
   "cell_type": "code",
   "execution_count": 56,
   "id": "9925b9bd",
   "metadata": {},
   "outputs": [],
   "source": [
    "expla_linked_pruned.remove(53.79061102867126) #twice"
   ]
  },
  {
   "cell_type": "code",
   "execution_count": 57,
   "id": "fd0e814f",
   "metadata": {},
   "outputs": [
    {
     "data": {
      "text/plain": [
       "[70.75812220573425,\n",
       " 68.59205961227417,\n",
       " 72.56317734718323,\n",
       " 68.23104619979858,\n",
       " 70.75812220573425,\n",
       " 64.25992846488953,\n",
       " 72.56317734718323,\n",
       " 72.56317734718323]"
      ]
     },
     "execution_count": 57,
     "metadata": {},
     "output_type": "execute_result"
    }
   ],
   "source": [
    "expla_linked_pruned"
   ]
  },
  {
   "cell_type": "code",
   "execution_count": 58,
   "id": "df8aa308",
   "metadata": {},
   "outputs": [],
   "source": [
    "expla_no_graph_pruned = expla_no_graphs.copy()"
   ]
  },
  {
   "cell_type": "code",
   "execution_count": 60,
   "id": "6bc249c3",
   "metadata": {},
   "outputs": [],
   "source": [
    "expla_no_graph_pruned.remove(53.79061102867126)"
   ]
  },
  {
   "cell_type": "code",
   "execution_count": 61,
   "id": "bb69e7b2",
   "metadata": {
    "scrolled": true
   },
   "outputs": [
    {
     "data": {
      "text/plain": [
       "[64.62093591690063,\n",
       " 71.11913561820984,\n",
       " 74.72923994064331,\n",
       " 66.42599105834961,\n",
       " 74.72923994064331,\n",
       " 70.75812220573425,\n",
       " 66.42599105834961,\n",
       " 69.31408047676086,\n",
       " 68.95306706428528]"
      ]
     },
     "execution_count": 61,
     "metadata": {},
     "output_type": "execute_result"
    }
   ],
   "source": [
    "expla_no_graph_pruned"
   ]
  },
  {
   "cell_type": "code",
   "execution_count": 62,
   "id": "77ba9f35",
   "metadata": {},
   "outputs": [],
   "source": [
    "expla_gen_linked_pruned = expla_gen_linked.copy()"
   ]
  },
  {
   "cell_type": "code",
   "execution_count": 65,
   "id": "5c2689da",
   "metadata": {},
   "outputs": [],
   "source": [
    "expla_gen_linked_pruned.remove(53.79061102867126) #twice"
   ]
  },
  {
   "cell_type": "code",
   "execution_count": 66,
   "id": "c0f7fc33",
   "metadata": {},
   "outputs": [
    {
     "data": {
      "text/plain": [
       "[74.72923994064331,\n",
       " 76.89530849456787,\n",
       " 71.48014307022095,\n",
       " 74.72923994064331,\n",
       " 72.56317734718323,\n",
       " 72.56317734718323,\n",
       " 72.20216393470764,\n",
       " 73.28519821166992]"
      ]
     },
     "execution_count": 66,
     "metadata": {},
     "output_type": "execute_result"
    }
   ],
   "source": [
    "expla_gen_linked_pruned"
   ]
  },
  {
   "cell_type": "code",
   "execution_count": 67,
   "id": "194b1140",
   "metadata": {},
   "outputs": [],
   "source": [
    "expla_gen_gold_pruned = expla_gen_gold.copy()"
   ]
  },
  {
   "cell_type": "code",
   "execution_count": 70,
   "id": "3ae5e1dd",
   "metadata": {},
   "outputs": [],
   "source": [
    "expla_gen_gold_pruned.remove(53.79061102867126) #twice"
   ]
  },
  {
   "cell_type": "code",
   "execution_count": 71,
   "id": "a8e7d3d3",
   "metadata": {},
   "outputs": [
    {
     "data": {
      "text/plain": [
       "[74.3682324886322,\n",
       " 70.03610134124756,\n",
       " 72.56317734718323,\n",
       " 66.7870044708252,\n",
       " 68.23104619979858,\n",
       " 74.3682324886322,\n",
       " 72.92418479919434,\n",
       " 65.3429627418518]"
      ]
     },
     "execution_count": 71,
     "metadata": {},
     "output_type": "execute_result"
    }
   ],
   "source": [
    "expla_gen_gold_pruned"
   ]
  },
  {
   "cell_type": "markdown",
   "id": "d73ccfe0",
   "metadata": {},
   "source": [
    "### Final scores"
   ]
  },
  {
   "cell_type": "code",
   "execution_count": 72,
   "id": "4e69a0d7",
   "metadata": {},
   "outputs": [
    {
     "data": {
      "text/plain": [
       "(80.28880834579468, 2.318352721295891)"
      ]
     },
     "execution_count": 72,
     "metadata": {},
     "output_type": "execute_result"
    }
   ],
   "source": [
    "compute(expla_gold)"
   ]
  },
  {
   "cell_type": "code",
   "execution_count": 73,
   "id": "b53d0805",
   "metadata": {},
   "outputs": [
    {
     "data": {
      "text/plain": [
       "(70.03610134124756, 2.7135912863099336)"
      ]
     },
     "execution_count": 73,
     "metadata": {},
     "output_type": "execute_result"
    }
   ],
   "source": [
    "compute(expla_linked_pruned)"
   ]
  },
  {
   "cell_type": "code",
   "execution_count": 74,
   "id": "48497f49",
   "metadata": {},
   "outputs": [
    {
     "data": {
      "text/plain": [
       "(69.67508925331964, 3.3608282065863535)"
      ]
     },
     "execution_count": 74,
     "metadata": {},
     "output_type": "execute_result"
    }
   ],
   "source": [
    "compute(expla_no_graph_pruned)"
   ]
  },
  {
   "cell_type": "code",
   "execution_count": 75,
   "id": "c7dec01b",
   "metadata": {},
   "outputs": [
    {
     "data": {
      "text/plain": [
       "(66.46209239959717, 8.488669797384452)"
      ]
     },
     "execution_count": 75,
     "metadata": {},
     "output_type": "execute_result"
    }
   ],
   "source": [
    "compute(expla_retrieved)"
   ]
  },
  {
   "cell_type": "code",
   "execution_count": 77,
   "id": "6dbc1194",
   "metadata": {},
   "outputs": [
    {
     "data": {
      "text/plain": [
       "(73.55595603585243, 1.6617290113058767)"
      ]
     },
     "execution_count": 77,
     "metadata": {},
     "output_type": "execute_result"
    }
   ],
   "source": [
    "compute(expla_gen_linked_pruned)"
   ]
  },
  {
   "cell_type": "code",
   "execution_count": 78,
   "id": "cf2c8ea6",
   "metadata": {},
   "outputs": [
    {
     "data": {
      "text/plain": [
       "(70.57761773467064, 3.2740713219849176)"
      ]
     },
     "execution_count": 78,
     "metadata": {},
     "output_type": "execute_result"
    }
   ],
   "source": [
    "compute(expla_gen_gold_pruned)"
   ]
  },
  {
   "cell_type": "markdown",
   "id": "77bee996",
   "metadata": {},
   "source": [
    "## COPA"
   ]
  },
  {
   "cell_type": "code",
   "execution_count": 20,
   "id": "c1f347ca",
   "metadata": {},
   "outputs": [],
   "source": [
    "copa = {\"gold\": copa_gold, \"linked\": copa_linked, \"no_graph\": copa_no_graph, \"rerieved\": copa_retrieved, \"gen_linked\": copa_gen_linked, \"gen_gold\": copa_gen_gold}"
   ]
  },
  {
   "cell_type": "code",
   "execution_count": 53,
   "id": "3ff44fd7",
   "metadata": {},
   "outputs": [
    {
     "data": {
      "image/png": "[encoded data removed]",
      "text/plain": [
       "<Figure size 300x400 with 1 Axes>"
      ]
     },
     "metadata": {},
     "output_type": "display_data"
    },
    {
     "data": {
      "image/png": "[encoded data removed]",
      "text/plain": [
       "<Figure size 300x400 with 1 Axes>"
      ]
     },
     "metadata": {},
     "output_type": "display_data"
    },
    {
     "data": {
      "image/png": "[encoded data removed]",
      "text/plain": [
       "<Figure size 300x400 with 1 Axes>"
      ]
     },
     "metadata": {},
     "output_type": "display_data"
    },
    {
     "data": {
      "image/png": "[encoded data removed]",
      "text/plain": [
       "<Figure size 300x400 with 1 Axes>"
      ]
     },
     "metadata": {},
     "output_type": "display_data"
    },
    {
     "data": {
      "image/png": "[encoded data removed]",
      "text/plain": [
       "<Figure size 300x400 with 1 Axes>"
      ]
     },
     "metadata": {},
     "output_type": "display_data"
    },
    {
     "data": {
      "image/png": "[encoded data removed]",
      "text/plain": [
       "<Figure size 300x400 with 1 Axes>"
      ]
     },
     "metadata": {},
     "output_type": "display_data"
    }
   ],
   "source": [
    "for k, e in copa.items():\n",
    "    fig = plt.figure(figsize =(3, 4))\n",
    "    plt.boxplot(e)\n",
    "    fig.savefig(f'./copa_{k}_boxplot.pdf')\n",
    "    \n"
   ]
  },
  {
   "cell_type": "code",
   "execution_count": 32,
   "id": "af0a4445",
   "metadata": {},
   "outputs": [],
   "source": [
    "copa_gold_pruned = copa_gold.copy()"
   ]
  },
  {
   "cell_type": "code",
   "execution_count": 33,
   "id": "ff1d4f2e",
   "metadata": {},
   "outputs": [
    {
     "data": {
      "text/plain": [
       "[96.40000462532043,\n",
       " 96.8000054359436,\n",
       " 96.40000462532043,\n",
       " 96.8000054359436,\n",
       " 96.8000054359436,\n",
       " 98.00000190734865,\n",
       " 96.00000381469728,\n",
       " 96.8000054359436,\n",
       " 96.8000054359436,\n",
       " 92.8000032901764]"
      ]
     },
     "execution_count": 33,
     "metadata": {},
     "output_type": "execute_result"
    }
   ],
   "source": [
    "copa_gold_pruned"
   ]
  },
  {
   "cell_type": "code",
   "execution_count": 34,
   "id": "fbb3cca0",
   "metadata": {},
   "outputs": [],
   "source": [
    "copa_gold_pruned.remove(98.00000190734865)\n",
    "copa_gold_pruned.remove(92.8000032901764)"
   ]
  },
  {
   "cell_type": "code",
   "execution_count": 35,
   "id": "b5ffe236",
   "metadata": {},
   "outputs": [],
   "source": [
    "copa_linked_pruned = copa_linked.copy()"
   ]
  },
  {
   "cell_type": "code",
   "execution_count": 36,
   "id": "0c8c70cf",
   "metadata": {},
   "outputs": [
    {
     "data": {
      "text/plain": [
       "[55.20000457763672,\n",
       " 54.80000376701355,\n",
       " 54.40000295639038,\n",
       " 55.20000457763672,\n",
       " 69.60000395774841,\n",
       " 49.2000013589859,\n",
       " 52.799999713897705,\n",
       " 52.400004863739014,\n",
       " 52.400004863739014,\n",
       " 53.60000133514404]"
      ]
     },
     "execution_count": 36,
     "metadata": {},
     "output_type": "execute_result"
    }
   ],
   "source": [
    "copa_linked_pruned"
   ]
  },
  {
   "cell_type": "code",
   "execution_count": 37,
   "id": "1a2485f2",
   "metadata": {},
   "outputs": [],
   "source": [
    "copa_linked_pruned.remove(69.60000395774841)"
   ]
  },
  {
   "cell_type": "code",
   "execution_count": 38,
   "id": "5138a9ad",
   "metadata": {},
   "outputs": [],
   "source": [
    "copa_no_graph_pruned = copa_no_graph.copy()"
   ]
  },
  {
   "cell_type": "code",
   "execution_count": 39,
   "id": "e3cdc155",
   "metadata": {},
   "outputs": [
    {
     "data": {
      "text/plain": [
       "[65.20000100135803,\n",
       " 68.4000015258789,\n",
       " 65.20000100135803,\n",
       " 49.2000013589859,\n",
       " 65.6000018119812,\n",
       " 57.600003480911255,\n",
       " 65.6000018119812,\n",
       " 66.00000262260437,\n",
       " 69.60000395774841,\n",
       " 70.80000042915344]"
      ]
     },
     "execution_count": 39,
     "metadata": {},
     "output_type": "execute_result"
    }
   ],
   "source": [
    "copa_no_graph_pruned"
   ]
  },
  {
   "cell_type": "code",
   "execution_count": 40,
   "id": "4e55791f",
   "metadata": {},
   "outputs": [],
   "source": [
    "copa_no_graph_pruned.remove(49.2000013589859)\n",
    "copa_no_graph_pruned.remove(57.600003480911255)"
   ]
  },
  {
   "cell_type": "code",
   "execution_count": 41,
   "id": "400c5fec",
   "metadata": {},
   "outputs": [],
   "source": [
    "copa_retrieved_pruned = copa_retrieved.copy()"
   ]
  },
  {
   "cell_type": "code",
   "execution_count": 42,
   "id": "795c1250",
   "metadata": {},
   "outputs": [
    {
     "data": {
      "text/plain": [
       "[52.000004053115845,\n",
       " 52.400004863739014,\n",
       " 51.600003242492676,\n",
       " 64.80000019073486,\n",
       " 64.000004529953,\n",
       " 49.2000013589859,\n",
       " 53.60000133514404,\n",
       " 46.80000245571137,\n",
       " 51.600003242492676,\n",
       " 53.200000524520874]"
      ]
     },
     "execution_count": 42,
     "metadata": {},
     "output_type": "execute_result"
    }
   ],
   "source": [
    "copa_retrieved_pruned"
   ]
  },
  {
   "cell_type": "code",
   "execution_count": 43,
   "id": "b0ceda81",
   "metadata": {},
   "outputs": [],
   "source": [
    "copa_retrieved_pruned.remove(64.000004529953)\n",
    "copa_retrieved_pruned.remove(64.80000019073486)\n",
    "copa_retrieved_pruned.remove(49.2000013589859)"
   ]
  },
  {
   "cell_type": "code",
   "execution_count": 44,
   "id": "cf2059f1",
   "metadata": {},
   "outputs": [],
   "source": [
    "copa_gen_gold_pruned = copa_gen_gold.copy()"
   ]
  },
  {
   "cell_type": "code",
   "execution_count": 45,
   "id": "ff3339ad",
   "metadata": {},
   "outputs": [
    {
     "data": {
      "text/plain": [
       "[86.40000224113464,\n",
       " 87.20000386238098,\n",
       " 85.20000576972961,\n",
       " 86.40000224113464,\n",
       " 85.60000658035278,\n",
       " 85.60000658035278,\n",
       " 63.200002908706665,\n",
       " 84.40000414848328,\n",
       " 86.00000143051147,\n",
       " 86.00000143051147]"
      ]
     },
     "execution_count": 45,
     "metadata": {},
     "output_type": "execute_result"
    }
   ],
   "source": [
    "copa_gen_gold_pruned"
   ]
  },
  {
   "cell_type": "code",
   "execution_count": 46,
   "id": "f802a39e",
   "metadata": {},
   "outputs": [],
   "source": [
    "copa_gen_gold_pruned.remove(63.200002908706665)"
   ]
  },
  {
   "cell_type": "code",
   "execution_count": null,
   "id": "e86b0ead",
   "metadata": {},
   "outputs": [],
   "source": []
  },
  {
   "cell_type": "markdown",
   "id": "2014bc20",
   "metadata": {},
   "source": [
    "## Final COPA results\n"
   ]
  },
  {
   "cell_type": "code",
   "execution_count": 47,
   "id": "d9e07695",
   "metadata": {},
   "outputs": [
    {
     "data": {
      "text/plain": [
       "(67.05000177025795, 2.0778595987229185)"
      ]
     },
     "execution_count": 47,
     "metadata": {},
     "output_type": "execute_result"
    }
   ],
   "source": [
    "compute(copa_no_graph_pruned)"
   ]
  },
  {
   "cell_type": "code",
   "execution_count": 48,
   "id": "df218978",
   "metadata": {},
   "outputs": [
    {
     "data": {
      "text/plain": [
       "(96.60000503063202, 0.282843285671755)"
      ]
     },
     "execution_count": 48,
     "metadata": {},
     "output_type": "execute_result"
    }
   ],
   "source": [
    "compute(copa_gold_pruned)"
   ]
  },
  {
   "cell_type": "code",
   "execution_count": 49,
   "id": "d7070bad",
   "metadata": {},
   "outputs": [
    {
     "data": {
      "text/plain": [
       "(53.33333644602034, 1.8086220402898168)"
      ]
     },
     "execution_count": 49,
     "metadata": {},
     "output_type": "execute_result"
    }
   ],
   "source": [
    "compute(copa_linked_pruned)"
   ]
  },
  {
   "cell_type": "code",
   "execution_count": 50,
   "id": "10c61fb1",
   "metadata": {},
   "outputs": [
    {
     "data": {
      "text/plain": [
       "(51.60000281674521, 2.083952099418745)"
      ]
     },
     "execution_count": 50,
     "metadata": {},
     "output_type": "execute_result"
    }
   ],
   "source": [
    "compute(copa_retrieved_pruned)"
   ]
  },
  {
   "cell_type": "code",
   "execution_count": 51,
   "id": "4243c8e7",
   "metadata": {},
   "outputs": [
    {
     "data": {
      "text/plain": [
       "(56.2000036239624, 8.392854948177016)"
      ]
     },
     "execution_count": 51,
     "metadata": {},
     "output_type": "execute_result"
    }
   ],
   "source": [
    "compute(copa_gen_linked)"
   ]
  },
  {
   "cell_type": "code",
   "execution_count": 52,
   "id": "03252544",
   "metadata": {},
   "outputs": [
    {
     "data": {
      "text/plain": [
       "(85.86667047606574, 0.7542464203019534)"
      ]
     },
     "execution_count": 52,
     "metadata": {},
     "output_type": "execute_result"
    }
   ],
   "source": [
    "compute(copa_gen_gold_pruned)"
   ]
  },
  {
   "cell_type": "code",
   "execution_count": null,
   "id": "02d0a69a",
   "metadata": {},
   "outputs": [],
   "source": []
  }
 ],
 "metadata": {
  "kernelspec": {
   "display_name": "Python 3 (ipykernel)",
   "language": "python",
   "name": "python3"
  },
  "language_info": {
   "codemirror_mode": {
    "name": "ipython",
    "version": 3
   },
   "file_extension": ".py",
   "mimetype": "text/x-python",
   "name": "python",
   "nbconvert_exporter": "python",
   "pygments_lexer": "ipython3",
   "version": "3.10.6"
  }
 },
 "nbformat": 4,
 "nbformat_minor": 5
}
