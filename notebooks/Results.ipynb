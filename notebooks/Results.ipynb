{
 "cells": [
  {
   "cell_type": "code",
   "execution_count": null,
   "id": "e9f42009",
   "metadata": {},
   "outputs": [],
   "source": [
    "import numpy as np\n",
    "import matplotlib.pyplot as plt"
   ]
  },
  {
   "cell_type": "code",
   "execution_count": null,
   "id": "242ef3be",
   "metadata": {},
   "outputs": [],
   "source": [
    "copa_no_graph = [0.6520000100135803\n",
    ",0.6840000152587891\n",
    ",0.6520000100135803\n",
    ",0.492000013589859\n",
    ",0.656000018119812\n",
    ",0.5760000348091125\n",
    ",0.656000018119812\n",
    ",0.6600000262260437\n",
    ",0.6960000395774841\n",
    ",0.7080000042915344]\n",
    "copa_no_graph = [x*100 for x in copa_no_graph]"
   ]
  },
  {
   "cell_type": "code",
   "execution_count": null,
   "id": "1a287eca",
   "metadata": {},
   "outputs": [],
   "source": [
    "copa_gold = [0.9640000462532043\n",
    ",0.968000054359436\n",
    ",0.9640000462532043\n",
    ",0.968000054359436\n",
    ",0.968000054359436\n",
    ",0.9800000190734864\n",
    ",0.9600000381469728\n",
    ",0.968000054359436\n",
    ",0.968000054359436\n",
    ",0.928000032901764]\n",
    "copa_gold = [x*100 for x in copa_gold]"
   ]
  },
  {
   "cell_type": "code",
   "execution_count": null,
   "id": "f967fa0f",
   "metadata": {},
   "outputs": [],
   "source": [
    "copa_retrieved = [0.5200000405311584\n",
    ",0.5240000486373901\n",
    ",0.5160000324249268\n",
    ",0.6480000019073486\n",
    ",0.64000004529953\n",
    ",0.492000013589859\n",
    ",0.5360000133514404\n",
    ",0.4680000245571137\n",
    ",0.5160000324249268\n",
    ",0.5320000052452087]\n",
    "copa_retrieved = [x*100 for x in copa_retrieved]"
   ]
  },
  {
   "cell_type": "code",
   "execution_count": null,
   "id": "abf6a34e",
   "metadata": {},
   "outputs": [],
   "source": [
    "copa_linked = [0.5520000457763672\n",
    ",0.5480000376701355\n",
    ",0.5440000295639038\n",
    ",0.5520000457763672\n",
    ",0.6960000395774841\n",
    ",0.492000013589859\n",
    ",0.527999997138977\n",
    ",0.5240000486373901\n",
    ",0.5240000486373901\n",
    ",0.5360000133514404]\n",
    "copa_linked = [x*100 for x in copa_linked]"
   ]
  },
  {
   "cell_type": "code",
   "execution_count": null,
   "id": "73c78a7c",
   "metadata": {},
   "outputs": [],
   "source": [
    "copa_gen_linked = [0.5840000510215759\n",
    ",0.42000001668930054\n",
    ",0.656000018119812\n",
    ",0.5560000538825989\n",
    ",0.6720000505447388\n",
    ",0.6440000534057617\n",
    ",0.6080000400543213\n",
    ",0.5480000376701355\n",
    ",0.4400000274181366\n",
    ",0.492000013589859]\n",
    "copa_gen_linked = [x*100 for x in copa_gen_linked]"
   ]
  },
  {
   "cell_type": "code",
   "execution_count": null,
   "id": "efbd31fb",
   "metadata": {},
   "outputs": [],
   "source": [
    "copa_gen_gold = [0.8640000224113464\n",
    ",0.8720000386238098\n",
    ",0.8520000576972961\n",
    ",0.8640000224113464\n",
    ",0.8560000658035278\n",
    ",0.8560000658035278\n",
    ",0.6320000290870667\n",
    ",0.8440000414848328\n",
    ",0.8600000143051147\n",
    ",0.8600000143051147]\n",
    "copa_gen_gold = [x*100 for x in copa_gen_gold]"
   ]
  },
  {
   "cell_type": "code",
   "execution_count": null,
   "id": "aa331427",
   "metadata": {},
   "outputs": [],
   "source": [
    "expla_no_graphs = [64.62093591690063\n",
    ",53.79061102867126\n",
    ",71.11913561820984\n",
    ",74.72923994064331\n",
    ",66.42599105834961\n",
    ",74.72923994064331\n",
    ",70.75812220573425\n",
    ",66.42599105834961\n",
    ",69.31408047676086\n",
    ",68.95306706428528]"
   ]
  },
  {
   "cell_type": "code",
   "execution_count": null,
   "id": "535eab54",
   "metadata": {},
   "outputs": [],
   "source": [
    "expla_gold = [82.6714813709259\n",
    ",81.94946050643921\n",
    ",82.31046795845032\n",
    ",75.0902533531189\n",
    ",81.22743368148804\n",
    ",80.86642622947693\n",
    ",77.61732935905457\n",
    ",79.06137108802795\n",
    ",82.31046795845032\n",
    ",79.78339195251465]"
   ]
  },
  {
   "cell_type": "code",
   "execution_count": null,
   "id": "32a3b531",
   "metadata": {},
   "outputs": [],
   "source": [
    "expla_retrieved = [53.79061102867126\n",
    ",76.53429508209229\n",
    ",71.48014307022095\n",
    ",68.95306706428528\n",
    ",70.75812220573425\n",
    ",71.48014307022095\n",
    ",71.48014307022095\n",
    ",53.79061102867126\n",
    ",72.56317734718323\n",
    ",53.79061102867126]"
   ]
  },
  {
   "cell_type": "code",
   "execution_count": null,
   "id": "ea952147",
   "metadata": {},
   "outputs": [],
   "source": [
    "expla_linked = [70.75812220573425\n",
    ",68.59205961227417\n",
    ",72.56317734718323\n",
    ",68.23104619979858\n",
    ",70.75812220573425\n",
    ",53.79061102867126\n",
    ",64.25992846488953\n",
    ",53.79061102867126\n",
    ",72.56317734718323\n",
    ",72.56317734718323]"
   ]
  },
  {
   "cell_type": "code",
   "execution_count": null,
   "id": "7394f769",
   "metadata": {},
   "outputs": [],
   "source": [
    "expla_gen_linked = [53.79061102867126\n",
    ",74.72923994064331\n",
    ",76.89530849456787\n",
    ",71.48014307022095\n",
    ",74.72923994064331\n",
    ",72.56317734718323\n",
    ",72.56317734718323\n",
    ",72.20216393470764\n",
    ",53.79061102867126\n",
    ",73.28519821166992]"
   ]
  },
  {
   "cell_type": "code",
   "execution_count": null,
   "id": "19610868",
   "metadata": {},
   "outputs": [],
   "source": [
    "expla_gen_gold = [74.3682324886322\n",
    ",70.03610134124756\n",
    ",53.79061102867126\n",
    ",72.56317734718323\n",
    ",66.7870044708252\n",
    ",53.79061102867126\n",
    ",68.23104619979858\n",
    ",74.3682324886322\n",
    ",72.92418479919434\n",
    ",65.34296274185181]"
   ]
  },
  {
   "cell_type": "code",
   "execution_count": null,
   "id": "b78a05f4",
   "metadata": {},
   "outputs": [],
   "source": [
    "def compute(x):\n",
    "    return np.mean(x), np.std(x)\n",
    "    "
   ]
  },
  {
   "cell_type": "markdown",
   "id": "ed20fc6f",
   "metadata": {},
   "source": [
    "# Raw results"
   ]
  },
  {
   "cell_type": "markdown",
   "id": "deb7b193",
   "metadata": {},
   "source": [
    "### COPA"
   ]
  },
  {
   "cell_type": "code",
   "execution_count": null,
   "id": "b03a400a",
   "metadata": {},
   "outputs": [],
   "source": [
    "compute(copa_no_graph)"
   ]
  },
  {
   "cell_type": "code",
   "execution_count": null,
   "id": "bd71b37a",
   "metadata": {},
   "outputs": [],
   "source": [
    "compute(copa_gold)"
   ]
  },
  {
   "cell_type": "code",
   "execution_count": null,
   "id": "f0c9a9f4",
   "metadata": {},
   "outputs": [],
   "source": [
    "compute(copa_retrieved)"
   ]
  },
  {
   "cell_type": "code",
   "execution_count": null,
   "id": "0656802f",
   "metadata": {},
   "outputs": [],
   "source": [
    "compute(copa_linked)"
   ]
  },
  {
   "cell_type": "code",
   "execution_count": null,
   "id": "ef9685b4",
   "metadata": {},
   "outputs": [],
   "source": [
    "compute(copa_gen_linked)"
   ]
  },
  {
   "cell_type": "code",
   "execution_count": null,
   "id": "385b2e86",
   "metadata": {},
   "outputs": [],
   "source": [
    "compute(copa_gen_gold)"
   ]
  },
  {
   "cell_type": "markdown",
   "id": "fb19d4d9",
   "metadata": {},
   "source": [
    "### EXPLA"
   ]
  },
  {
   "cell_type": "code",
   "execution_count": null,
   "id": "b85da82e",
   "metadata": {},
   "outputs": [],
   "source": [
    "compute(expla_no_graphs)"
   ]
  },
  {
   "cell_type": "code",
   "execution_count": null,
   "id": "71ee2600",
   "metadata": {},
   "outputs": [],
   "source": [
    "compute(expla_gold)"
   ]
  },
  {
   "cell_type": "code",
   "execution_count": null,
   "id": "73f1185f",
   "metadata": {},
   "outputs": [],
   "source": [
    "compute(expla_retrieved)"
   ]
  },
  {
   "cell_type": "code",
   "execution_count": null,
   "id": "f03fb15b",
   "metadata": {},
   "outputs": [],
   "source": [
    "compute(expla_linked)"
   ]
  },
  {
   "cell_type": "code",
   "execution_count": null,
   "id": "024aadc0",
   "metadata": {},
   "outputs": [],
   "source": [
    "compute(expla_gen_linked)"
   ]
  },
  {
   "cell_type": "code",
   "execution_count": null,
   "id": "62e32604",
   "metadata": {},
   "outputs": [],
   "source": [
    "compute(expla_gen_gold)"
   ]
  },
  {
   "cell_type": "markdown",
   "id": "d39fbcfd",
   "metadata": {},
   "source": [
    "# Outlier detection and removal"
   ]
  },
  {
   "cell_type": "markdown",
   "id": "bdab438e",
   "metadata": {},
   "source": [
    "## EXPLA"
   ]
  },
  {
   "cell_type": "code",
   "execution_count": null,
   "id": "ede3eeab",
   "metadata": {},
   "outputs": [],
   "source": [
    "expla = {\"gold\": expla_gold, \"linked\": expla_linked, \"no_graph\": expla_no_graphs, \"rerieved\": expla_retrieved, \"gen_linked\": expla_gen_linked, \"gen_gold\": expla_gen_gold}\n"
   ]
  },
  {
   "cell_type": "code",
   "execution_count": null,
   "id": "e95a5575",
   "metadata": {},
   "outputs": [],
   "source": [
    "for k, e in expla.items():\n",
    "    fig = plt.figure(figsize =(3, 4))\n",
    "    plt.boxplot(e)\n",
    "    fig.savefig(f'./{k}_boxplot.pdf')\n",
    "    \n"
   ]
  },
  {
   "cell_type": "markdown",
   "id": "932704e8",
   "metadata": {},
   "source": [
    "# Pruning ExplaGraphs"
   ]
  },
  {
   "cell_type": "markdown",
   "id": "5adb3dcb",
   "metadata": {},
   "source": [
    "Contains outliers: linked, no_graph, gen_link, gen_gold"
   ]
  },
  {
   "cell_type": "code",
   "execution_count": null,
   "id": "c69a31e2",
   "metadata": {},
   "outputs": [],
   "source": [
    "expla_linked_pruned = expla_linked.copy()"
   ]
  },
  {
   "cell_type": "code",
   "execution_count": null,
   "id": "9925b9bd",
   "metadata": {},
   "outputs": [],
   "source": [
    "expla_linked_pruned.remove(53.79061102867126) #twice"
   ]
  },
  {
   "cell_type": "code",
   "execution_count": null,
   "id": "fd0e814f",
   "metadata": {},
   "outputs": [],
   "source": [
    "expla_linked_pruned"
   ]
  },
  {
   "cell_type": "code",
   "execution_count": null,
   "id": "df8aa308",
   "metadata": {},
   "outputs": [],
   "source": [
    "expla_no_graph_pruned = expla_no_graphs.copy()"
   ]
  },
  {
   "cell_type": "code",
   "execution_count": null,
   "id": "6bc249c3",
   "metadata": {},
   "outputs": [],
   "source": [
    "expla_no_graph_pruned.remove(53.79061102867126)"
   ]
  },
  {
   "cell_type": "code",
   "execution_count": null,
   "id": "bb69e7b2",
   "metadata": {
    "scrolled": true
   },
   "outputs": [],
   "source": [
    "expla_no_graph_pruned"
   ]
  },
  {
   "cell_type": "code",
   "execution_count": null,
   "id": "77ba9f35",
   "metadata": {},
   "outputs": [],
   "source": [
    "expla_gen_linked_pruned = expla_gen_linked.copy()"
   ]
  },
  {
   "cell_type": "code",
   "execution_count": null,
   "id": "5c2689da",
   "metadata": {},
   "outputs": [],
   "source": [
    "expla_gen_linked_pruned.remove(53.79061102867126) #twice"
   ]
  },
  {
   "cell_type": "code",
   "execution_count": null,
   "id": "c0f7fc33",
   "metadata": {},
   "outputs": [],
   "source": [
    "expla_gen_linked_pruned"
   ]
  },
  {
   "cell_type": "code",
   "execution_count": null,
   "id": "194b1140",
   "metadata": {},
   "outputs": [],
   "source": [
    "expla_gen_gold_pruned = expla_gen_gold.copy()"
   ]
  },
  {
   "cell_type": "code",
   "execution_count": null,
   "id": "3ae5e1dd",
   "metadata": {},
   "outputs": [],
   "source": [
    "expla_gen_gold_pruned.remove(53.79061102867126) #twice"
   ]
  },
  {
   "cell_type": "code",
   "execution_count": null,
   "id": "a8e7d3d3",
   "metadata": {},
   "outputs": [],
   "source": [
    "expla_gen_gold_pruned"
   ]
  },
  {
   "cell_type": "markdown",
   "id": "d73ccfe0",
   "metadata": {},
   "source": [
    "### Final scores"
   ]
  },
  {
   "cell_type": "code",
   "execution_count": null,
   "id": "4e69a0d7",
   "metadata": {},
   "outputs": [],
   "source": [
    "compute(expla_gold)"
   ]
  },
  {
   "cell_type": "code",
   "execution_count": null,
   "id": "b53d0805",
   "metadata": {},
   "outputs": [],
   "source": [
    "compute(expla_linked_pruned)"
   ]
  },
  {
   "cell_type": "code",
   "execution_count": null,
   "id": "48497f49",
   "metadata": {},
   "outputs": [],
   "source": [
    "compute(expla_no_graph_pruned)"
   ]
  },
  {
   "cell_type": "code",
   "execution_count": null,
   "id": "c7dec01b",
   "metadata": {},
   "outputs": [],
   "source": [
    "compute(expla_retrieved)"
   ]
  },
  {
   "cell_type": "code",
   "execution_count": null,
   "id": "6dbc1194",
   "metadata": {},
   "outputs": [],
   "source": [
    "compute(expla_gen_linked_pruned)"
   ]
  },
  {
   "cell_type": "code",
   "execution_count": null,
   "id": "cf2c8ea6",
   "metadata": {},
   "outputs": [],
   "source": [
    "compute(expla_gen_gold_pruned)"
   ]
  },
  {
   "cell_type": "markdown",
   "id": "77bee996",
   "metadata": {},
   "source": [
    "## COPA"
   ]
  },
  {
   "cell_type": "code",
   "execution_count": null,
   "id": "c1f347ca",
   "metadata": {},
   "outputs": [],
   "source": [
    "copa = {\"gold\": copa_gold, \"linked\": copa_linked, \"no_graph\": copa_no_graph, \"rerieved\": copa_retrieved, \"gen_linked\": copa_gen_linked, \"gen_gold\": copa_gen_gold}"
   ]
  },
  {
   "cell_type": "code",
   "execution_count": null,
   "id": "3ff44fd7",
   "metadata": {},
   "outputs": [],
   "source": [
    "for k, e in copa.items():\n",
    "    fig = plt.figure(figsize =(3, 4))\n",
    "    plt.boxplot(e)\n",
    "    fig.savefig(f'./copa_{k}_boxplot.pdf')\n",
    "    \n"
   ]
  },
  {
   "cell_type": "code",
   "execution_count": null,
   "id": "af0a4445",
   "metadata": {},
   "outputs": [],
   "source": [
    "copa_gold_pruned = copa_gold.copy()"
   ]
  },
  {
   "cell_type": "code",
   "execution_count": null,
   "id": "ff1d4f2e",
   "metadata": {},
   "outputs": [],
   "source": [
    "copa_gold_pruned"
   ]
  },
  {
   "cell_type": "code",
   "execution_count": null,
   "id": "fbb3cca0",
   "metadata": {},
   "outputs": [],
   "source": [
    "copa_gold_pruned.remove(98.00000190734865)\n",
    "copa_gold_pruned.remove(92.8000032901764)"
   ]
  },
  {
   "cell_type": "code",
   "execution_count": null,
   "id": "b5ffe236",
   "metadata": {},
   "outputs": [],
   "source": [
    "copa_linked_pruned = copa_linked.copy()"
   ]
  },
  {
   "cell_type": "code",
   "execution_count": null,
   "id": "0c8c70cf",
   "metadata": {},
   "outputs": [],
   "source": [
    "copa_linked_pruned"
   ]
  },
  {
   "cell_type": "code",
   "execution_count": null,
   "id": "1a2485f2",
   "metadata": {},
   "outputs": [],
   "source": [
    "copa_linked_pruned.remove(69.60000395774841)"
   ]
  },
  {
   "cell_type": "code",
   "execution_count": null,
   "id": "5138a9ad",
   "metadata": {},
   "outputs": [],
   "source": [
    "copa_no_graph_pruned = copa_no_graph.copy()"
   ]
  },
  {
   "cell_type": "code",
   "execution_count": null,
   "id": "e3cdc155",
   "metadata": {},
   "outputs": [],
   "source": [
    "copa_no_graph_pruned"
   ]
  },
  {
   "cell_type": "code",
   "execution_count": null,
   "id": "4e55791f",
   "metadata": {},
   "outputs": [],
   "source": [
    "copa_no_graph_pruned.remove(49.2000013589859)\n",
    "copa_no_graph_pruned.remove(57.600003480911255)"
   ]
  },
  {
   "cell_type": "code",
   "execution_count": null,
   "id": "400c5fec",
   "metadata": {},
   "outputs": [],
   "source": [
    "copa_retrieved_pruned = copa_retrieved.copy()"
   ]
  },
  {
   "cell_type": "code",
   "execution_count": null,
   "id": "795c1250",
   "metadata": {},
   "outputs": [],
   "source": [
    "copa_retrieved_pruned"
   ]
  },
  {
   "cell_type": "code",
   "execution_count": null,
   "id": "b0ceda81",
   "metadata": {},
   "outputs": [],
   "source": [
    "copa_retrieved_pruned.remove(64.000004529953)\n",
    "copa_retrieved_pruned.remove(64.80000019073486)\n",
    "copa_retrieved_pruned.remove(49.2000013589859)"
   ]
  },
  {
   "cell_type": "code",
   "execution_count": null,
   "id": "cf2059f1",
   "metadata": {},
   "outputs": [],
   "source": [
    "copa_gen_gold_pruned = copa_gen_gold.copy()"
   ]
  },
  {
   "cell_type": "code",
   "execution_count": null,
   "id": "ff3339ad",
   "metadata": {},
   "outputs": [],
   "source": [
    "copa_gen_gold_pruned"
   ]
  },
  {
   "cell_type": "code",
   "execution_count": null,
   "id": "f802a39e",
   "metadata": {},
   "outputs": [],
   "source": [
    "copa_gen_gold_pruned.remove(63.200002908706665)"
   ]
  },
  {
   "cell_type": "code",
   "execution_count": null,
   "id": "e86b0ead",
   "metadata": {},
   "outputs": [],
   "source": []
  },
  {
   "cell_type": "markdown",
   "id": "2014bc20",
   "metadata": {},
   "source": [
    "## Final COPA results\n"
   ]
  },
  {
   "cell_type": "code",
   "execution_count": null,
   "id": "d9e07695",
   "metadata": {},
   "outputs": [],
   "source": [
    "compute(copa_no_graph_pruned)"
   ]
  },
  {
   "cell_type": "code",
   "execution_count": null,
   "id": "df218978",
   "metadata": {},
   "outputs": [],
   "source": [
    "compute(copa_gold_pruned)"
   ]
  },
  {
   "cell_type": "code",
   "execution_count": null,
   "id": "d7070bad",
   "metadata": {},
   "outputs": [],
   "source": [
    "compute(copa_linked_pruned)"
   ]
  },
  {
   "cell_type": "code",
   "execution_count": null,
   "id": "10c61fb1",
   "metadata": {},
   "outputs": [],
   "source": [
    "compute(copa_retrieved_pruned)"
   ]
  },
  {
   "cell_type": "code",
   "execution_count": null,
   "id": "4243c8e7",
   "metadata": {},
   "outputs": [],
   "source": [
    "compute(copa_gen_linked)"
   ]
  },
  {
   "cell_type": "code",
   "execution_count": null,
   "id": "03252544",
   "metadata": {},
   "outputs": [],
   "source": [
    "compute(copa_gen_gold_pruned)"
   ]
  },
  {
   "cell_type": "code",
   "execution_count": null,
   "id": "02d0a69a",
   "metadata": {},
   "outputs": [],
   "source": []
  }
 ],
 "metadata": {
  "kernelspec": {
   "display_name": "Python 3 (ipykernel)",
   "language": "python",
   "name": "python3"
  },
  "language_info": {
   "codemirror_mode": {
    "name": "ipython",
    "version": 3
   },
   "file_extension": ".py",
   "mimetype": "text/x-python",
   "name": "python",
   "nbconvert_exporter": "python",
   "pygments_lexer": "ipython3",
   "version": "3.10.6"
  }
 },
 "nbformat": 4,
 "nbformat_minor": 5
}
