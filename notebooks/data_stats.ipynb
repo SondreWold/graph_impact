{
 "cells": [
  {
   "cell_type": "code",
   "execution_count": null,
   "id": "5be1581d",
   "metadata": {},
   "outputs": [],
   "source": [
    "import pandas as pd\n",
    "from typing import List\n",
    "import numpy as np\n",
    "import json\n",
    "import ast"
   ]
  },
  {
   "cell_type": "code",
   "execution_count": null,
   "id": "9a076429",
   "metadata": {},
   "outputs": [],
   "source": [
    "expla_df = pd.read_csv(\"../data/explagraphs/train_v3.tsv\", sep=\"\\t\")\n",
    "copa_df = pd.read_csv(\"../data/copa/train_v3.tsv\", sep=\"\\t\")"
   ]
  },
  {
   "cell_type": "code",
   "execution_count": null,
   "id": "a058901e",
   "metadata": {},
   "outputs": [],
   "source": [
    "columns = {\n",
    "    'linked_paths': 'linked_paths',\n",
    "    'gold_graph': 'gold_graph',\n",
    "    'generated_graph_linked': 'generated_graph_linked',\n",
    "    'generated_graph_gold': 'generated_graph_gold',\n",
    "    'retrieved_graph': 'retrieved_graph'\n",
    "}"
   ]
  },
  {
   "cell_type": "code",
   "execution_count": null,
   "id": "5cc7603b",
   "metadata": {},
   "outputs": [],
   "source": [
    "def calculate_stats(l: List):\n",
    "    triple_lengths = []\n",
    "    broken_triples = []\n",
    "    for en in l:\n",
    "        try:\n",
    "            e = ast.literal_eval(en)\n",
    "        except:\n",
    "            broken_triples.append(1)\n",
    "            continue\n",
    "        if e == -1:\n",
    "            broken_triples.append(1)\n",
    "            continue        \n",
    "        for inner in e:\n",
    "            has_empty_node = False\n",
    "            for x in inner:\n",
    "                if not x:\n",
    "                    has_empty_node = True\n",
    "            if len(inner) > 3 or has_empty_node:\n",
    "                broken_triples.append(1)\n",
    "            else:\n",
    "                broken_triples.append(0)\n",
    "            \n",
    "        triple_lengths.append(len(e))\n",
    "    stats = {\n",
    "        'avg_triple_length': round(np.mean(triple_lengths), 3),\n",
    "        'broken_triples': round(np.mean(broken_triples),3)\n",
    "    } \n",
    "    return stats"
   ]
  },
  {
   "cell_type": "code",
   "execution_count": null,
   "id": "7b176ffe",
   "metadata": {},
   "outputs": [],
   "source": [
    "print(\"----EXPLA----\")\n",
    "for key, value in columns.items():\n",
    "    stats = calculate_stats(expla_df[value].to_numpy().tolist())\n",
    "    print(f\"{key}: \\n {stats}\")\n",
    "    print(\"\\n\")\n",
    "\n",
    "\n",
    "print(\"\\n\")\n",
    "print(\"----COPA-SSE----\")\n",
    "for key, value in columns.items():\n",
    "    stats = calculate_stats(copa_df[value].to_numpy().tolist())\n",
    "    print(f\"{key}: \\n {stats}\")\n",
    "    print(\"\\n\")"
   ]
  },
  {
   "cell_type": "code",
   "execution_count": null,
   "id": "23e0a154",
   "metadata": {},
   "outputs": [],
   "source": []
  }
 ],
 "metadata": {
  "kernelspec": {
   "display_name": "Python 3 (ipykernel)",
   "language": "python",
   "name": "python3"
  },
  "language_info": {
   "codemirror_mode": {
    "name": "ipython",
    "version": 3
   },
   "file_extension": ".py",
   "mimetype": "text/x-python",
   "name": "python",
   "nbconvert_exporter": "python",
   "pygments_lexer": "ipython3",
   "version": "3.10.6"
  }
 },
 "nbformat": 4,
 "nbformat_minor": 5
}
