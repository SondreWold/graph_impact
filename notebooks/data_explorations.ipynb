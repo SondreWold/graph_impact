{
 "cells": [
  {
   "cell_type": "code",
   "execution_count": 1,
   "id": "809e1706",
   "metadata": {},
   "outputs": [
    {
     "name": "stderr",
     "output_type": "stream",
     "text": [
      "/Users/sondrewo/Documents/graph_impact/venv/lib/python3.8/site-packages/tqdm/auto.py:22: TqdmWarning: IProgress not found. Please update jupyter and ipywidgets. See https://ipywidgets.readthedocs.io/en/stable/user_install.html\n",
      "  from .autonotebook import tqdm as notebook_tqdm\n"
     ]
    }
   ],
   "source": [
    "import pandas as pd\n",
    "import matplotlib.pyplot as plt\n",
    "from torch.utils.data import Dataset\n",
    "from transformers import AutoTokenizer\n",
    "import torch\n",
    "from sklearn.model_selection import train_test_split"
   ]
  },
  {
   "cell_type": "code",
   "execution_count": 2,
   "id": "da005173",
   "metadata": {},
   "outputs": [],
   "source": [
    "df_val = pd.read_csv(\"../data/dev_original.tsv\", sep=\"\\t\")"
   ]
  },
  {
   "cell_type": "code",
   "execution_count": 4,
   "id": "6522db5e",
   "metadata": {},
   "outputs": [
    {
     "data": {
      "text/html": [
       "<div>\n",
       "<style scoped>\n",
       "    .dataframe tbody tr th:only-of-type {\n",
       "        vertical-align: middle;\n",
       "    }\n",
       "\n",
       "    .dataframe tbody tr th {\n",
       "        vertical-align: top;\n",
       "    }\n",
       "\n",
       "    .dataframe thead th {\n",
       "        text-align: right;\n",
       "    }\n",
       "</style>\n",
       "<table border=\"1\" class=\"dataframe\">\n",
       "  <thead>\n",
       "    <tr style=\"text-align: right;\">\n",
       "      <th></th>\n",
       "      <th>marriage is pase.</th>\n",
       "      <th>Not everyone believes in marriage anymore.</th>\n",
       "      <th>support</th>\n",
       "      <th>(marriage; capable of; deceiving)(deceiving; created by; pase)(pase; used for; everyone)(everyone; capable of; believes)</th>\n",
       "    </tr>\n",
       "  </thead>\n",
       "  <tbody>\n",
       "    <tr>\n",
       "      <th>0</th>\n",
       "      <td>marriage is the best for a family unit.</td>\n",
       "      <td>Marriage is a predictor of health and happiness.</td>\n",
       "      <td>support</td>\n",
       "      <td>(marriage; created by; love)(love; causes; hea...</td>\n",
       "    </tr>\n",
       "  </tbody>\n",
       "</table>\n",
       "</div>"
      ],
      "text/plain": [
       "                         marriage is pase.  \\\n",
       "0  marriage is the best for a family unit.   \n",
       "\n",
       "         Not everyone believes in marriage anymore.  support  \\\n",
       "0  Marriage is a predictor of health and happiness.  support   \n",
       "\n",
       "  (marriage; capable of; deceiving)(deceiving; created by; pase)(pase; used for; everyone)(everyone; capable of; believes)  \n",
       "0  (marriage; created by; love)(love; causes; hea...                                                                        "
      ]
     },
     "execution_count": 4,
     "metadata": {},
     "output_type": "execute_result"
    }
   ],
   "source": [
    "df_val.head(1)"
   ]
  },
  {
   "cell_type": "code",
   "execution_count": 3,
   "id": "c1495367",
   "metadata": {},
   "outputs": [],
   "source": [
    "df_train = pd.read_csv(\"../data/train_original.tsv\", sep=\"\\t\")"
   ]
  },
  {
   "cell_type": "code",
   "execution_count": 4,
   "id": "b559bb48",
   "metadata": {},
   "outputs": [],
   "source": [
    "df_train.columns = [\"belief\", \"argument\", \"label\", \"explanation\"]\n",
    "df_val.columns = [\"belief\", \"argument\", \"label\", \"explanation\"]"
   ]
  },
  {
   "cell_type": "code",
   "execution_count": 5,
   "id": "f1ed2a56",
   "metadata": {},
   "outputs": [],
   "source": [
    "df = pd.concat([df_train, df_val], axis=0)"
   ]
  },
  {
   "cell_type": "code",
   "execution_count": 7,
   "id": "f977e0ec",
   "metadata": {},
   "outputs": [],
   "source": [
    "train_val, test = train_test_split(df, random_state=1, test_size=0.1)"
   ]
  },
  {
   "cell_type": "code",
   "execution_count": 8,
   "id": "f5a8625c",
   "metadata": {},
   "outputs": [],
   "source": [
    "train, val = train_test_split(train_val, random_state=1, test_size=0.1)"
   ]
  },
  {
   "cell_type": "code",
   "execution_count": 9,
   "id": "6b6103ca",
   "metadata": {},
   "outputs": [],
   "source": [
    "train.to_csv(\"../data/train.tsv\", sep=\"\\t\")"
   ]
  },
  {
   "cell_type": "code",
   "execution_count": 10,
   "id": "834b29a3",
   "metadata": {},
   "outputs": [],
   "source": [
    "val.to_csv(\"../data/val.tsv\", sep=\"\\t\")"
   ]
  },
  {
   "cell_type": "code",
   "execution_count": 11,
   "id": "7d948f5d",
   "metadata": {},
   "outputs": [],
   "source": [
    "test.to_csv(\"../data/test.tsv\", sep=\"\\t\")"
   ]
  },
  {
   "cell_type": "code",
   "execution_count": 14,
   "id": "3724c1b7",
   "metadata": {},
   "outputs": [
    {
     "data": {
      "text/html": [
       "<div>\n",
       "<style scoped>\n",
       "    .dataframe tbody tr th:only-of-type {\n",
       "        vertical-align: middle;\n",
       "    }\n",
       "\n",
       "    .dataframe tbody tr th {\n",
       "        vertical-align: top;\n",
       "    }\n",
       "\n",
       "    .dataframe thead th {\n",
       "        text-align: right;\n",
       "    }\n",
       "</style>\n",
       "<table border=\"1\" class=\"dataframe\">\n",
       "  <thead>\n",
       "    <tr style=\"text-align: right;\">\n",
       "      <th></th>\n",
       "      <th>belief</th>\n",
       "      <th>argument</th>\n",
       "      <th>label</th>\n",
       "      <th>explanation</th>\n",
       "    </tr>\n",
       "  </thead>\n",
       "  <tbody>\n",
       "    <tr>\n",
       "      <th>142</th>\n",
       "      <td>urbanization creates high crime.</td>\n",
       "      <td>People migrate to cities in order to make money.</td>\n",
       "      <td>counter</td>\n",
       "      <td>(cities; capable of; job)(job; used for; make ...</td>\n",
       "    </tr>\n",
       "    <tr>\n",
       "      <th>1066</th>\n",
       "      <td>executives are not overpaid for the work they do.</td>\n",
       "      <td>Executives work quite hard and deserve their pay.</td>\n",
       "      <td>support</td>\n",
       "      <td>(executives; capable of; work quite hard)(work...</td>\n",
       "    </tr>\n",
       "    <tr>\n",
       "      <th>2334</th>\n",
       "      <td>Telemarketers has nothing to offer only to rip...</td>\n",
       "      <td>Not all telemarketers are scammers most have e...</td>\n",
       "      <td>counter</td>\n",
       "      <td>(telemarketers; capable of; enough to offer)(e...</td>\n",
       "    </tr>\n",
       "    <tr>\n",
       "      <th>94</th>\n",
       "      <td>Embryotic stem cells can save lives</td>\n",
       "      <td>Embryotic stem cells are something that is in ...</td>\n",
       "      <td>support</td>\n",
       "      <td>(embryotic stem cells; capable of; interest of...</td>\n",
       "    </tr>\n",
       "    <tr>\n",
       "      <th>1508</th>\n",
       "      <td>The olympics have lost their luster because wi...</td>\n",
       "      <td>Athletes are tested for drugs and can't compet...</td>\n",
       "      <td>counter</td>\n",
       "      <td>(athletes; capable of; tested for drugs)(teste...</td>\n",
       "    </tr>\n",
       "    <tr>\n",
       "      <th>...</th>\n",
       "      <td>...</td>\n",
       "      <td>...</td>\n",
       "      <td>...</td>\n",
       "      <td>...</td>\n",
       "    </tr>\n",
       "    <tr>\n",
       "      <th>518</th>\n",
       "      <td>zero tolerance could have deep consequences fo...</td>\n",
       "      <td>Zero tolerance implies harsher penalties.</td>\n",
       "      <td>support</td>\n",
       "      <td>(zero tolerance; causes; harsher punishment)(h...</td>\n",
       "    </tr>\n",
       "    <tr>\n",
       "      <th>1236</th>\n",
       "      <td>The government is obliged to ban naturopathy.</td>\n",
       "      <td>Naturopathy is experimental and the government...</td>\n",
       "      <td>support</td>\n",
       "      <td>(naturopathy; is a; experimental)(experimental...</td>\n",
       "    </tr>\n",
       "    <tr>\n",
       "      <th>1965</th>\n",
       "      <td>Safe spaces are a redundant and unnecessary pr...</td>\n",
       "      <td>Some people have no support or guidance and ne...</td>\n",
       "      <td>counter</td>\n",
       "      <td>(safe spaces; capable of; support or guidance)...</td>\n",
       "    </tr>\n",
       "    <tr>\n",
       "      <th>681</th>\n",
       "      <td>Someone with a history of criminal behavior sh...</td>\n",
       "      <td>Repeat offenders have not learned their lesson...</td>\n",
       "      <td>support</td>\n",
       "      <td>(repeat offenders; has property; criminal beha...</td>\n",
       "    </tr>\n",
       "    <tr>\n",
       "      <th>2352</th>\n",
       "      <td>We should adopt gender-neutral language so peo...</td>\n",
       "      <td>People's feelings can be hurt by the use of ge...</td>\n",
       "      <td>support</td>\n",
       "      <td>(gender-neutral language; antonym of; gender-o...</td>\n",
       "    </tr>\n",
       "  </tbody>\n",
       "</table>\n",
       "<p>2238 rows × 4 columns</p>\n",
       "</div>"
      ],
      "text/plain": [
       "                                                 belief  \\\n",
       "142                    urbanization creates high crime.   \n",
       "1066  executives are not overpaid for the work they do.   \n",
       "2334  Telemarketers has nothing to offer only to rip...   \n",
       "94                  Embryotic stem cells can save lives   \n",
       "1508  The olympics have lost their luster because wi...   \n",
       "...                                                 ...   \n",
       "518   zero tolerance could have deep consequences fo...   \n",
       "1236      The government is obliged to ban naturopathy.   \n",
       "1965  Safe spaces are a redundant and unnecessary pr...   \n",
       "681   Someone with a history of criminal behavior sh...   \n",
       "2352  We should adopt gender-neutral language so peo...   \n",
       "\n",
       "                                               argument    label  \\\n",
       "142    People migrate to cities in order to make money.  counter   \n",
       "1066  Executives work quite hard and deserve their pay.  support   \n",
       "2334  Not all telemarketers are scammers most have e...  counter   \n",
       "94    Embryotic stem cells are something that is in ...  support   \n",
       "1508  Athletes are tested for drugs and can't compet...  counter   \n",
       "...                                                 ...      ...   \n",
       "518           Zero tolerance implies harsher penalties.  support   \n",
       "1236  Naturopathy is experimental and the government...  support   \n",
       "1965  Some people have no support or guidance and ne...  counter   \n",
       "681   Repeat offenders have not learned their lesson...  support   \n",
       "2352  People's feelings can be hurt by the use of ge...  support   \n",
       "\n",
       "                                            explanation  \n",
       "142   (cities; capable of; job)(job; used for; make ...  \n",
       "1066  (executives; capable of; work quite hard)(work...  \n",
       "2334  (telemarketers; capable of; enough to offer)(e...  \n",
       "94    (embryotic stem cells; capable of; interest of...  \n",
       "1508  (athletes; capable of; tested for drugs)(teste...  \n",
       "...                                                 ...  \n",
       "518   (zero tolerance; causes; harsher punishment)(h...  \n",
       "1236  (naturopathy; is a; experimental)(experimental...  \n",
       "1965  (safe spaces; capable of; support or guidance)...  \n",
       "681   (repeat offenders; has property; criminal beha...  \n",
       "2352  (gender-neutral language; antonym of; gender-o...  \n",
       "\n",
       "[2238 rows x 4 columns]"
      ]
     },
     "execution_count": 14,
     "metadata": {},
     "output_type": "execute_result"
    }
   ],
   "source": [
    "train"
   ]
  },
  {
   "cell_type": "code",
   "execution_count": 19,
   "id": "b2bb284e",
   "metadata": {},
   "outputs": [],
   "source": [
    "class ExplaGraphs(Dataset):\n",
    "    def __init__(self, model_name, split=\"train\", use_graphs=True):\n",
    "        print(f\"Use graph explanations = {use_graphs}\")\n",
    "        self.tokenizer = AutoTokenizer.from_pretrained(model_name)\n",
    "        df = pd.read_csv(f\"../data/{split}.tsv\", sep=\"\\t\", header=0, index_col=0)\n",
    "        premises, arguments, self.labels, explanations = df.to_numpy().T\n",
    "        self.label_converter = {\"counter\": 0, \"support\": 1}\n",
    "        self.label_inverter = {0: \"counter\", 1: \"support\"}\n",
    "        explanations = [self.clean_string(x) for x in explanations]\n",
    "        if use_graphs == True:\n",
    "            self.features = [prem + \" [SEP] \" + arg + \" [SEP] \" + exp for prem,arg,exp in zip(premises, arguments, explanations)]\n",
    "        else:\n",
    "            self.features = [prem + \" [SEP] \" + arg for prem,arg in zip(premises, arguments)]\n",
    "            \n",
    "        encodings = self.tokenizer(self.features, truncation=True, padding=True)\n",
    "        self.input_ids, self.attention_masks = encodings[\"input_ids\"], encodings[\"attention_mask\"]\n",
    "        \n",
    "    def clean_string(self, x):\n",
    "        x = x.replace(\")(\", \", \")\n",
    "        return x.replace(\"(\", \"\").replace(\")\",\"\").replace(\";\", \"\")\n",
    "    \n",
    "    def __len__(self):\n",
    "        return len(self.input_ids)\n",
    "    \n",
    "    def __getitem__(self, idx):\n",
    "        return torch.LongTensor(self.input_ids[idx]), torch.BoolTensor(self.attention_masks[idx]), self.label_converter[self.labels[idx]]"
   ]
  },
  {
   "cell_type": "code",
   "execution_count": 20,
   "id": "a2710080",
   "metadata": {},
   "outputs": [
    {
     "name": "stdout",
     "output_type": "stream",
     "text": [
      "Use graph explanations = True\n"
     ]
    }
   ],
   "source": [
    "train = ExplaGraphs(\"bert-base-uncased\", split=\"train\")"
   ]
  },
  {
   "cell_type": "code",
   "execution_count": 21,
   "id": "bad752a9",
   "metadata": {},
   "outputs": [],
   "source": [
    "x = train.features[1]"
   ]
  },
  {
   "cell_type": "code",
   "execution_count": 22,
   "id": "5f484c00",
   "metadata": {},
   "outputs": [
    {
     "data": {
      "text/plain": [
       "'executives are not overpaid for the work they do. [SEP] Executives work quite hard and deserve their pay. [SEP] executives capable of work quite hard, work quite hard capable of deserve their pay, deserve their pay synonym of not overpaid'"
      ]
     },
     "execution_count": 22,
     "metadata": {},
     "output_type": "execute_result"
    }
   ],
   "source": [
    "x"
   ]
  },
  {
   "cell_type": "code",
   "execution_count": null,
   "id": "8b59b54c",
   "metadata": {},
   "outputs": [],
   "source": []
  }
 ],
 "metadata": {
  "kernelspec": {
   "display_name": "Python 3 (ipykernel)",
   "language": "python",
   "name": "python3"
  },
  "language_info": {
   "codemirror_mode": {
    "name": "ipython",
    "version": 3
   },
   "file_extension": ".py",
   "mimetype": "text/x-python",
   "name": "python",
   "nbconvert_exporter": "python",
   "pygments_lexer": "ipython3",
   "version": "3.8.9"
  }
 },
 "nbformat": 4,
 "nbformat_minor": 5
}
