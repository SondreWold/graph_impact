{
 "cells": [
  {
   "cell_type": "code",
   "execution_count": 1,
   "id": "b422c16e",
   "metadata": {},
   "outputs": [
    {
     "name": "stderr",
     "output_type": "stream",
     "text": [
      "/Users/sondrewo/Documents/graph_impact/venv/lib/python3.8/site-packages/tqdm/auto.py:22: TqdmWarning: IProgress not found. Please update jupyter and ipywidgets. See https://ipywidgets.readthedocs.io/en/stable/user_install.html\n",
      "  from .autonotebook import tqdm as notebook_tqdm\n"
     ]
    }
   ],
   "source": [
    "import pandas as pd\n",
    "import matplotlib.pyplot as plt\n",
    "from torch.utils.data import Dataset\n",
    "from transformers import AutoTokenizer\n",
    "import torch\n",
    "from sklearn.model_selection import train_test_split"
   ]
  },
  {
   "cell_type": "code",
   "execution_count": 2,
   "id": "1b6d0d2e",
   "metadata": {},
   "outputs": [],
   "source": [
    "df_val = pd.read_csv(\"../data/dev.tsv\", sep=\"\\t\")"
   ]
  },
  {
   "cell_type": "code",
   "execution_count": 3,
   "id": "ee72203c",
   "metadata": {},
   "outputs": [
    {
     "data": {
      "text/plain": [
       "397"
      ]
     },
     "execution_count": 3,
     "metadata": {},
     "output_type": "execute_result"
    }
   ],
   "source": [
    "len(df_val)"
   ]
  },
  {
   "cell_type": "code",
   "execution_count": 4,
   "id": "98a1c13c",
   "metadata": {},
   "outputs": [],
   "source": [
    "df_train = pd.read_csv(\"../data/train.tsv\", sep=\"\\t\")"
   ]
  },
  {
   "cell_type": "code",
   "execution_count": 5,
   "id": "31570861",
   "metadata": {},
   "outputs": [
    {
     "data": {
      "text/plain": [
       "2367"
      ]
     },
     "execution_count": 5,
     "metadata": {},
     "output_type": "execute_result"
    }
   ],
   "source": [
    "len(df_train)"
   ]
  },
  {
   "cell_type": "code",
   "execution_count": 6,
   "id": "10fb1635",
   "metadata": {},
   "outputs": [],
   "source": [
    "df = pd.concat([df_train, df_val])"
   ]
  },
  {
   "cell_type": "code",
   "execution_count": 7,
   "id": "596a2230",
   "metadata": {},
   "outputs": [
    {
     "data": {
      "text/plain": [
       "2764"
      ]
     },
     "execution_count": 7,
     "metadata": {},
     "output_type": "execute_result"
    }
   ],
   "source": [
    "len(df)"
   ]
  },
  {
   "cell_type": "code",
   "execution_count": 9,
   "id": "a17af77c",
   "metadata": {},
   "outputs": [],
   "source": [
    "train_val, test = train_test_split(df, random_state=1, test_size=0.1)"
   ]
  },
  {
   "cell_type": "code",
   "execution_count": 10,
   "id": "9829458b",
   "metadata": {},
   "outputs": [],
   "source": [
    "train, val = train_test_split(train_val, random_state=1, test_size=0.1)"
   ]
  },
  {
   "cell_type": "code",
   "execution_count": 15,
   "id": "3b642406",
   "metadata": {},
   "outputs": [],
   "source": [
    "train.to_csv(\"../data/train.tsv\", sep=\"\\t\")"
   ]
  },
  {
   "cell_type": "code",
   "execution_count": 16,
   "id": "86b9edb3",
   "metadata": {},
   "outputs": [],
   "source": [
    "val.to_csv(\"../data/val.tsv\", sep=\"\\t\")"
   ]
  },
  {
   "cell_type": "code",
   "execution_count": 17,
   "id": "20927696",
   "metadata": {},
   "outputs": [],
   "source": [
    "test.to_csv(\"../data/test.tsv\", sep=\"\\t\")"
   ]
  },
  {
   "cell_type": "code",
   "execution_count": null,
   "id": "9a019a8f",
   "metadata": {},
   "outputs": [],
   "source": [
    "class ExplaGraphs(Dataset):\n",
    "    def __init__(self, model_name, split=\"train\", use_graphs=False):\n",
    "        print(f\"Use graph explanations = {use_graphs}\")\n",
    "        self.tokenizer = AutoTokenizer.from_pretrained(model_name)\n",
    "        df = pd.read_csv(f\"../data/{split}.tsv\", sep=\"\\t\")\n",
    "        premises, arguments, self.labels, explanations = df.to_numpy().T\n",
    "        self.label_converter = {\"counter\": 0, \"support\": 1}\n",
    "        self.label_inverter = {0: \"counter\", 1: \"support\"}\n",
    "        explanations = [self.clean_string(x) for x in explanations]\n",
    "        if use_graphs == True:\n",
    "            self.features = [prem + \" [SEP] \" + arg + \" [SEP] \" + exp for prem,arg,exp in zip(premises, arguments, explanations)]\n",
    "        else:\n",
    "            self.features = [prem + \" [SEP] \" + arg for prem,arg in zip(premises, arguments)]\n",
    "            \n",
    "        encodings = self.tokenizer(self.features, truncation=True, padding=True)\n",
    "        self.input_ids, self.attention_masks = encodings[\"input_ids\"], encodings[\"attention_mask\"]\n",
    "        \n",
    "    def clean_string(self, x):\n",
    "        x = x.replace(\")(\", \", \")\n",
    "        return x.replace(\"(\", \"\").replace(\")\",\"\").replace(\";\", \"\")\n",
    "    \n",
    "    def __len__(self):\n",
    "        return len(self.input_ids)\n",
    "    \n",
    "    def __getitem__(self, idx):\n",
    "        return torch.LongTensor(self.input_ids[idx]), torch.BoolTensor(self.attention_masks[idx]), self.label_converter[self.labels[idx]]"
   ]
  },
  {
   "cell_type": "code",
   "execution_count": null,
   "id": "aa07c692",
   "metadata": {},
   "outputs": [],
   "source": [
    "train = ExplaGraphs(\"bert-base-uncased\", split=\"dev\")"
   ]
  },
  {
   "cell_type": "code",
   "execution_count": null,
   "id": "7ce05362",
   "metadata": {},
   "outputs": [],
   "source": [
    "x = train.features[1]"
   ]
  },
  {
   "cell_type": "code",
   "execution_count": null,
   "id": "f52992fb",
   "metadata": {},
   "outputs": [],
   "source": [
    "x"
   ]
  },
  {
   "cell_type": "code",
   "execution_count": null,
   "id": "69f9a4f0",
   "metadata": {},
   "outputs": [],
   "source": []
  }
 ],
 "metadata": {
  "kernelspec": {
   "display_name": "Python 3 (ipykernel)",
   "language": "python",
   "name": "python3"
  },
  "language_info": {
   "codemirror_mode": {
    "name": "ipython",
    "version": 3
   },
   "file_extension": ".py",
   "mimetype": "text/x-python",
   "name": "python",
   "nbconvert_exporter": "python",
   "pygments_lexer": "ipython3",
   "version": "3.8.9"
  }
 },
 "nbformat": 4,
 "nbformat_minor": 5
}
