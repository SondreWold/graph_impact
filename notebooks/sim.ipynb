{
 "cells": [
  {
   "cell_type": "code",
   "execution_count": null,
   "id": "05f2299c",
   "metadata": {},
   "outputs": [],
   "source": [
    "import pandas as pd\n",
    "from sentence_transformers import SentenceTransformer, util\n",
    "import numpy as np\n",
    "import torch\n",
    "from typing import List\n",
    "from tqdm import tqdm"
   ]
  },
  {
   "cell_type": "code",
   "execution_count": null,
   "id": "3cf11159",
   "metadata": {},
   "outputs": [],
   "source": [
    "model = SentenceTransformer('all-MiniLM-L6-v2')"
   ]
  },
  {
   "cell_type": "code",
   "execution_count": null,
   "id": "7822a8d2",
   "metadata": {},
   "outputs": [],
   "source": [
    "expla_df = pd.read_csv(\"../data/explagraphs/train_v3.tsv\", sep=\"\\t\")\n",
    "copa_df = pd.read_csv(\"../data/copa/train_v3.tsv\", sep=\"\\t\")"
   ]
  },
  {
   "cell_type": "code",
   "execution_count": null,
   "id": "6c61e47c",
   "metadata": {},
   "outputs": [],
   "source": [
    "columns = {\n",
    "    'linked_paths': 'linked_paths',\n",
    "    'gold_graph': 'gold_graph',\n",
    "    'generated_graph_linked': 'generated_graph_linked',\n",
    "    'generated_graph_gold': 'generated_graph_gold',\n",
    "    'retrieved_graph': 'retrieved_graph'\n",
    "}"
   ]
  },
  {
   "cell_type": "code",
   "execution_count": null,
   "id": "b9ad6262",
   "metadata": {},
   "outputs": [],
   "source": [
    "def string_stripper(s: str):\n",
    "    return s.strip().replace('[', '').replace(']', '').replace(',', '').replace('_', '').replace('\\'', '')"
   ]
  },
  {
   "cell_type": "code",
   "execution_count": null,
   "id": "2e828d06",
   "metadata": {},
   "outputs": [],
   "source": [
    "def get_avg_similarity(df, is_expla=False):\n",
    "    stats = {}\n",
    "    for key, value in columns.items():\n",
    "        l = df[value].to_numpy().tolist()\n",
    "        res = []\n",
    "        for idx, e in enumerate(tqdm(l)):\n",
    "            try:\n",
    "                e = string_stripper(e)\n",
    "                if is_expla:\n",
    "                    context = df.iloc[idx][\"belief\"] + \" \" + df.iloc[idx][\"argument\"]\n",
    "                else:\n",
    "                    context= df.iloc[idx][\"p\"] + \" \" + df.iloc[idx][\"a1\"] + \" \" + df.iloc[idx][\"a2\"]\n",
    "            except:\n",
    "                continue\n",
    "            c = model.encode(context, convert_to_tensor=True, show_progress_bar=False)\n",
    "            g = model.encode(e, convert_to_tensor=True, show_progress_bar=False)\n",
    "            res.append(util.cos_sim(c,g).item())            \n",
    "            \n",
    "        stats[value] = np.mean(res)            \n",
    "        \n",
    "    return stats\n",
    "        "
   ]
  },
  {
   "cell_type": "code",
   "execution_count": null,
   "id": "3130861f",
   "metadata": {},
   "outputs": [],
   "source": [
    "a = get_avg_similarity(expla_df, is_expla=True)"
   ]
  },
  {
   "cell_type": "code",
   "execution_count": null,
   "id": "00f2d7fd",
   "metadata": {},
   "outputs": [],
   "source": [
    "a"
   ]
  },
  {
   "cell_type": "code",
   "execution_count": null,
   "id": "2dbdc68a",
   "metadata": {},
   "outputs": [],
   "source": [
    "b = get_avg_similarity(copa_df, is_expla=False)"
   ]
  },
  {
   "cell_type": "code",
   "execution_count": null,
   "id": "9ef7050a",
   "metadata": {},
   "outputs": [],
   "source": [
    "b"
   ]
  },
  {
   "cell_type": "code",
   "execution_count": null,
   "id": "67dd3b76",
   "metadata": {},
   "outputs": [],
   "source": []
  }
 ],
 "metadata": {
  "kernelspec": {
   "display_name": "Python 3 (ipykernel)",
   "language": "python",
   "name": "python3"
  },
  "language_info": {
   "codemirror_mode": {
    "name": "ipython",
    "version": 3
   },
   "file_extension": ".py",
   "mimetype": "text/x-python",
   "name": "python",
   "nbconvert_exporter": "python",
   "pygments_lexer": "ipython3",
   "version": "3.10.6"
  }
 },
 "nbformat": 4,
 "nbformat_minor": 5
}
