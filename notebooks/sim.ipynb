{
 "cells": [
  {
   "cell_type": "code",
   "execution_count": 64,
   "id": "05f2299c",
   "metadata": {},
   "outputs": [],
   "source": [
    "import pandas as pd\n",
    "from sentence_transformers import SentenceTransformer, util\n",
    "import numpy as np\n",
    "import torch\n",
    "from typing import List\n",
    "from tqdm import tqdm"
   ]
  },
  {
   "cell_type": "code",
   "execution_count": 3,
   "id": "3cf11159",
   "metadata": {},
   "outputs": [],
   "source": [
    "model = SentenceTransformer('all-MiniLM-L6-v2')"
   ]
  },
  {
   "cell_type": "code",
   "execution_count": 4,
   "id": "7822a8d2",
   "metadata": {},
   "outputs": [],
   "source": [
    "expla_df = pd.read_csv(\"../data/explagraphs/train_v3.tsv\", sep=\"\\t\")\n",
    "copa_df = pd.read_csv(\"../data/copa/train_v3.tsv\", sep=\"\\t\")"
   ]
  },
  {
   "cell_type": "code",
   "execution_count": 7,
   "id": "6c61e47c",
   "metadata": {},
   "outputs": [],
   "source": [
    "columns = {\n",
    "    'linked_paths': 'linked_paths',\n",
    "    'gold_graph': 'gold_graph',\n",
    "    'generated_graph_linked': 'generated_graph_linked',\n",
    "    'generated_graph_gold': 'generated_graph_gold',\n",
    "    'retrieved_graph': 'retrieved_graph'\n",
    "}"
   ]
  },
  {
   "cell_type": "code",
   "execution_count": 31,
   "id": "b9ad6262",
   "metadata": {},
   "outputs": [],
   "source": [
    "def string_stripper(s: str):\n",
    "    return s.strip().replace('[', '').replace(']', '').replace(',', '').replace('_', '').replace('\\'', '')"
   ]
  },
  {
   "cell_type": "code",
   "execution_count": 71,
   "id": "2e828d06",
   "metadata": {},
   "outputs": [],
   "source": [
    "def get_avg_similarity(df, is_expla=False):\n",
    "    stats = {}\n",
    "    for key, value in columns.items():\n",
    "        l = df[value].to_numpy().tolist()\n",
    "        res = []\n",
    "        for idx, e in enumerate(tqdm(l)):\n",
    "            try:\n",
    "                e = string_stripper(e)\n",
    "                if is_expla:\n",
    "                    context = df.iloc[idx][\"belief\"] + \" \" + df.iloc[idx][\"argument\"]\n",
    "                else:\n",
    "                    context= df.iloc[idx][\"p\"] + \" \" + df.iloc[idx][\"a1\"] + \" \" + df.iloc[idx][\"a2\"]\n",
    "            except:\n",
    "                continue\n",
    "            c = model.encode(context, convert_to_tensor=True, show_progress_bar=False)\n",
    "            g = model.encode(e, convert_to_tensor=True, show_progress_bar=False)\n",
    "            res.append(util.cos_sim(c,g).item())            \n",
    "            \n",
    "        stats[value] = np.mean(res)            \n",
    "        \n",
    "    return stats\n",
    "        "
   ]
  },
  {
   "cell_type": "code",
   "execution_count": 66,
   "id": "3130861f",
   "metadata": {},
   "outputs": [
    {
     "name": "stderr",
     "output_type": "stream",
     "text": [
      "100%|██████████████████████████████████████████████████████████████████████████████████████████████████████████████████████████████████████████████████████████████████████████████████████████████████████████████████████████████████████████████████| 2238/2238 [00:37<00:00, 60.09it/s]\n",
      "100%|██████████████████████████████████████████████████████████████████████████████████████████████████████████████████████████████████████████████████████████████████████████████████████████████████████████████████████████████████████████████████| 2238/2238 [00:38<00:00, 57.97it/s]\n",
      "100%|██████████████████████████████████████████████████████████████████████████████████████████████████████████████████████████████████████████████████████████████████████████████████████████████████████████████████████████████████████████████████| 2238/2238 [00:35<00:00, 62.21it/s]\n",
      "100%|██████████████████████████████████████████████████████████████████████████████████████████████████████████████████████████████████████████████████████████████████████████████████████████████████████████████████████████████████████████████████| 2238/2238 [00:36<00:00, 61.60it/s]\n",
      "100%|██████████████████████████████████████████████████████████████████████████████████████████████████████████████████████████████████████████████████████████████████████████████████████████████████████████████████████████████████████████████████| 2238/2238 [00:36<00:00, 61.33it/s]\n"
     ]
    }
   ],
   "source": [
    "a = get_avg_similarity(expla_df, is_expla=True)"
   ]
  },
  {
   "cell_type": "code",
   "execution_count": 67,
   "id": "00f2d7fd",
   "metadata": {},
   "outputs": [
    {
     "data": {
      "text/plain": [
       "{'linked_paths': 0.45119431000735555,\n",
       " 'gold_graph': 0.7517270463534612,\n",
       " 'generated_graph_linked': 0.48015500254570354,\n",
       " 'generated_graph_gold': 0.5591106350854925,\n",
       " 'retrieved_graph': 0.39514586703112753}"
      ]
     },
     "execution_count": 67,
     "metadata": {},
     "output_type": "execute_result"
    }
   ],
   "source": [
    "a"
   ]
  },
  {
   "cell_type": "code",
   "execution_count": 72,
   "id": "2dbdc68a",
   "metadata": {},
   "outputs": [
    {
     "name": "stderr",
     "output_type": "stream",
     "text": [
      "100%|██████████████████████████████████████████████████████████████████████████████████████████████████████████████████████████████████████████████████████████████████████████████████████████████████████████████████████████████████████████████████| 1215/1215 [00:21<00:00, 57.01it/s]\n",
      "100%|██████████████████████████████████████████████████████████████████████████████████████████████████████████████████████████████████████████████████████████████████████████████████████████████████████████████████████████████████████████████████| 1215/1215 [00:21<00:00, 56.72it/s]\n",
      "100%|██████████████████████████████████████████████████████████████████████████████████████████████████████████████████████████████████████████████████████████████████████████████████████████████████████████████████████████████████████████████████| 1215/1215 [00:20<00:00, 59.55it/s]\n",
      "100%|██████████████████████████████████████████████████████████████████████████████████████████████████████████████████████████████████████████████████████████████████████████████████████████████████████████████████████████████████████████████████| 1215/1215 [00:20<00:00, 58.50it/s]\n",
      "100%|██████████████████████████████████████████████████████████████████████████████████████████████████████████████████████████████████████████████████████████████████████████████████████████████████████████████████████████████████████████████████| 1215/1215 [00:21<00:00, 57.24it/s]\n"
     ]
    }
   ],
   "source": [
    "b = get_avg_similarity(copa_df, is_expla=False)"
   ]
  },
  {
   "cell_type": "code",
   "execution_count": 73,
   "id": "9ef7050a",
   "metadata": {},
   "outputs": [
    {
     "data": {
      "text/plain": [
       "{'linked_paths': 0.42919589884027287,\n",
       " 'gold_graph': 0.5715929444189425,\n",
       " 'generated_graph_linked': 0.45180113922819926,\n",
       " 'generated_graph_gold': 0.46292619898293896,\n",
       " 'retrieved_graph': 0.3266092926401783}"
      ]
     },
     "execution_count": 73,
     "metadata": {},
     "output_type": "execute_result"
    }
   ],
   "source": [
    "b"
   ]
  },
  {
   "cell_type": "code",
   "execution_count": null,
   "id": "67dd3b76",
   "metadata": {},
   "outputs": [],
   "source": []
  }
 ],
 "metadata": {
  "kernelspec": {
   "display_name": "Python 3 (ipykernel)",
   "language": "python",
   "name": "python3"
  },
  "language_info": {
   "codemirror_mode": {
    "name": "ipython",
    "version": 3
   },
   "file_extension": ".py",
   "mimetype": "text/x-python",
   "name": "python",
   "nbconvert_exporter": "python",
   "pygments_lexer": "ipython3",
   "version": "3.10.6"
  }
 },
 "nbformat": 4,
 "nbformat_minor": 5
}
